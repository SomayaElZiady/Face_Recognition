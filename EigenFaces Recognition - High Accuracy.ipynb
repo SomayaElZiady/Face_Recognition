{
 "cells": [
  {
   "cell_type": "code",
   "execution_count": 8,
   "id": "996b70e0",
   "metadata": {},
   "outputs": [],
   "source": [
    "import pandas as pd\n",
    "import numpy as np\n",
    "from time import time\n",
    "import logging\n",
    "import matplotlib.pyplot as plt\n",
    "import pylab as pl\n",
    "\n",
    "from sklearn.model_selection import train_test_split\n",
    "from sklearn.model_selection import GridSearchCV\n",
    "from sklearn.datasets import fetch_lfw_people\n",
    "from sklearn.metrics import classification_report\n",
    "from sklearn.metrics import confusion_matrix, accuracy_score\n",
    "from sklearn.decomposition import PCA\n",
    "from sklearn.svm import SVC"
   ]
  },
  {
   "cell_type": "markdown",
   "id": "0681fe67",
   "metadata": {},
   "source": [
    "# Loading the dataset"
   ]
  },
  {
   "cell_type": "code",
   "execution_count": 9,
   "id": "99eb64b5",
   "metadata": {},
   "outputs": [],
   "source": [
    "#faces = fetch_lfw_people('data', min_faces_per_person=70, resize=0.3)\n",
    "#faces = fetch_lfw_people(min_faces_per_person=70, resize=0.4)\n",
    "\n",
    "faces = fetch_lfw_people(min_faces_per_person=70, resize=0.4)"
   ]
  },
  {
   "cell_type": "code",
   "execution_count": 10,
   "id": "de758ae8",
   "metadata": {},
   "outputs": [
    {
     "name": "stdout",
     "output_type": "stream",
     "text": [
      "Total dataset size:\n",
      "n_samples: 1288\n",
      "n_features: 1850\n",
      "n_classes: 7\n"
     ]
    }
   ],
   "source": [
    "n_samples, h, w = faces.images.shape\n",
    "np.random.seed(42)\n",
    "\n",
    "x = faces.data\n",
    "n_features = x.shape[1]\n",
    "\n",
    "y = faces.target\n",
    "target_names = faces.target_names\n",
    "n_classes = target_names.shape[0]\n",
    "\n",
    "print(\"Total dataset size:\")\n",
    "print(\"n_samples: %d\" % n_samples)\n",
    "print(\"n_features: %d\" % n_features)\n",
    "print( \"n_classes: %d\" % n_classes)"
   ]
  },
  {
   "cell_type": "markdown",
   "id": "48c49bd5",
   "metadata": {},
   "source": [
    "# Splitting the Data into training and testing"
   ]
  },
  {
   "cell_type": "code",
   "execution_count": 11,
   "id": "45da7a22",
   "metadata": {},
   "outputs": [],
   "source": [
    "X_train, X_test, Y_train, Y_test = train_test_split(x, y, test_size=0.25, \n",
    "                                                    random_state=42)"
   ]
  },
  {
   "cell_type": "markdown",
   "id": "8f6e158c",
   "metadata": {},
   "source": [
    "# Computing PCA:"
   ]
  },
  {
   "cell_type": "code",
   "execution_count": 12,
   "id": "30081ae7",
   "metadata": {},
   "outputs": [
    {
     "name": "stdout",
     "output_type": "stream",
     "text": [
      "Extracting the top 200 eigenfaces from 966 faces\n",
      "Done in 0.129s\n"
     ]
    }
   ],
   "source": [
    "n_components = 200\n",
    "print(\"Extracting the top %d eigenfaces from %d faces\" % (n_components, X_train.shape[0]))\n",
    "t0 = time()\n",
    "\n",
    "#Creating instances of PCA, initializing with n_components and whiten=True\n",
    "pca = PCA(n_components=n_components, whiten=True, svd_solver=\"randomized\")\n",
    "pca = pca.fit(X_train)\n",
    "print(\"Done in %0.3fs\" %(time()- t0))"
   ]
  },
  {
   "cell_type": "markdown",
   "id": "cf26ae3c",
   "metadata": {},
   "source": [
    "# Projecting the input data on the eigenfaces orthonormal basis:"
   ]
  },
  {
   "cell_type": "code",
   "execution_count": 13,
   "id": "c2d6e7cd",
   "metadata": {},
   "outputs": [
    {
     "name": "stdout",
     "output_type": "stream",
     "text": [
      "Done in 0.020s\n"
     ]
    }
   ],
   "source": [
    "eigenfaces = pca.components_.reshape((n_components, h, w))\n",
    "\n",
    "t0=time()\n",
    "X_train_pca = pca.transform(X_train)\n",
    "X_test_pca = pca.transform(X_test)\n",
    "print(\"Done in %0.3fs\" %(time()- t0))"
   ]
  },
  {
   "cell_type": "markdown",
   "id": "15e8103d",
   "metadata": {},
   "source": [
    "# Training a SVM Classification Model"
   ]
  },
  {
   "cell_type": "code",
   "execution_count": 14,
   "id": "b5c64144",
   "metadata": {},
   "outputs": [
    {
     "name": "stdout",
     "output_type": "stream",
     "text": [
      "Fitting the classifier to the training set\n",
      "Done in 30.473s\n",
      "Best estimator found by grid search:\n",
      "SVC(C=1000.0, class_weight='balanced', gamma=0.001)\n"
     ]
    }
   ],
   "source": [
    "print(\"Fitting the classifier to the training set\")\n",
    "t0 = time()\n",
    "param_grid = {\n",
    "    'C': [1e3, 5e3, 1e4, 5e4, 1e5],\n",
    "    'gamma': [0.0001, 0.0005, 0.001, 0.005, 0.01, 0.1],\n",
    "}\n",
    "clf = GridSearchCV(SVC(kernel='rbf', class_weight='balanced'), param_grid)\n",
    "clf = clf.fit(X_train_pca, Y_train)\n",
    "print(\"Done in %0.3fs\" % (time() - t0))\n",
    "print(\"Best estimator found by grid search:\")\n",
    "print(clf.best_estimator_)\n"
   ]
  },
  {
   "cell_type": "markdown",
   "id": "1d2b91fe",
   "metadata": {},
   "source": [
    "# Evaluation of the Model:"
   ]
  },
  {
   "cell_type": "code",
   "execution_count": 15,
   "id": "2dcd43be",
   "metadata": {},
   "outputs": [
    {
     "name": "stdout",
     "output_type": "stream",
     "text": [
      "Classification Report:\n",
      "                   precision    recall  f1-score   support\n",
      "\n",
      "     Ariel Sharon       0.57      0.62      0.59        13\n",
      "     Colin Powell       0.74      0.88      0.80        60\n",
      "  Donald Rumsfeld       0.77      0.74      0.75        27\n",
      "    George W Bush       0.93      0.89      0.91       146\n",
      "Gerhard Schroeder       0.83      0.80      0.82        25\n",
      "      Hugo Chavez       0.75      0.60      0.67        15\n",
      "       Tony Blair       0.88      0.83      0.86        36\n",
      "\n",
      "         accuracy                           0.84       322\n",
      "        macro avg       0.78      0.77      0.77       322\n",
      "     weighted avg       0.84      0.84      0.84       322\n",
      "\n",
      "Accuracy Score: 0.8385093167701864\n"
     ]
    }
   ],
   "source": [
    "y_pred = clf.predict(X_test_pca)\n",
    "\n",
    "# Print classification report and accuracy score\n",
    "print(\"Classification Report:\")\n",
    "print(classification_report(Y_test, y_pred, target_names=target_names))\n",
    "print(\"Accuracy Score:\", accuracy_score(Y_test, y_pred))"
   ]
  },
  {
   "cell_type": "markdown",
   "id": "4720b8bf",
   "metadata": {},
   "source": [
    "# Plot Mean Face"
   ]
  },
  {
   "cell_type": "code",
   "execution_count": 16,
   "id": "41ab0486",
   "metadata": {},
   "outputs": [
    {
     "data": {
      "image/png": "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\n",
      "text/plain": [
       "<Figure size 800x800 with 1 Axes>"
      ]
     },
     "metadata": {},
     "output_type": "display_data"
    }
   ],
   "source": [
    "mean_face = pca.mean_.reshape((h, w))\n",
    "\n",
    "# Plot the mean face\n",
    "plt.figure(figsize=(8, 8))\n",
    "plt.imshow(mean_face, cmap='gray')\n",
    "plt.title('Mean Face')\n",
    "plt.axis('off')\n",
    "plt.show()"
   ]
  },
  {
   "cell_type": "markdown",
   "id": "20ef3ebc",
   "metadata": {},
   "source": [
    "# Test Recognition"
   ]
  },
  {
   "cell_type": "code",
   "execution_count": 18,
   "id": "8cf15427",
   "metadata": {},
   "outputs": [],
   "source": [
    "import cv2\n",
    "\n",
    "# Provide the path to the input image\n",
    "input_image_path = \"D:/Bachelor/LFW dataset/Donald_Rumsfeld/Donald_Rumsfeld_0011.jpg\"\n",
    "\n",
    "# Load the input image\n",
    "input_image = cv2.imread(input_image_path, 0)  # Load as grayscale image\n",
    "\n",
    "# Resize the input image to match the dimensions used during training\n",
    "resized_image = cv2.resize(input_image, (h, w))\n",
    "\n",
    "# Flatten the resized image to match the shape used during training\n",
    "flattened_image = resized_image.flatten()\n",
    "\n",
    "# Perform dimensionality reduction on the flattened image using PCA\n",
    "reduced_image = pca.transform([flattened_image])\n",
    "\n",
    "# Predict the label for the reduced image using the trained SVM classifier\n",
    "predicted_label = clf.predict(reduced_image)\n",
    "\n",
    "# Get the predicted person's name\n",
    "predicted_name = target_names[predicted_label[0]]\n",
    "\n",
    "# Display the predicted name on the input image\n",
    "cv2.putText(input_image, predicted_name, (10, 30), cv2.FONT_HERSHEY_SIMPLEX, 1, (255, 255, 255), 2)\n",
    "\n",
    "# Show the input image with the predicted label\n",
    "cv2.imshow(\"Predicted Image\", input_image)\n",
    "cv2.waitKey(0)\n",
    "cv2.destroyAllWindows()\n"
   ]
  }
 
]}
